{
 "cells": [
  {
   "cell_type": "markdown",
   "metadata": {},
   "source": [
    "\"\"\"<br>\n",
    "    @Author: Deven Gupta<br>\n",
    "    @Date: 13-08-2024<br>\n",
    "    @Last Modified by: Deven Gupta<br>\n",
    "    @Last Modified time: 13-08-2024<br>\n",
    "    @Title : Python program to plot using Plotly.<br>\n",
    "    <br>\n",
    "\"\"\""
   ]
  },
  {
   "cell_type": "code",
   "execution_count": 36,
   "metadata": {},
   "outputs": [],
   "source": [
    "import plotly.express as px\n",
    "import matplotlib.pyplot as plt\n",
    "import pandas as pd\n",
    "import numpy as np"
   ]
  },
  {
   "cell_type": "markdown",
   "metadata": {},
   "source": [
    "## 1. Write a program to draw a scatter plot for random 1000 x and y coordinates"
   ]
  },
  {
   "cell_type": "code",
   "execution_count": 58,
   "metadata": {},
   "outputs": [],
   "source": [
    "def main():\n",
    "\n",
    "    X =  np.random.randint(1000,size = 1000)\n",
    "    Y = np.random.randint(1000,size=1000)\n",
    "    fig = px.scatter(x=X, y=Y,title=\"Bar Plot of Random Data\", labels={'x': 'X-axis', 'y': 'Y-axis'})\n",
    "    fig.write_html('plot.html', auto_open=True)\n",
    "\n",
    "\n",
    "if __name__ == \"__main__\":\n",
    "    main()\n",
    "\n",
    "# Other Method\n",
    "# import plotly.offline as pyo\n",
    "# import numpy as np\n",
    "# import plotly.graph_objs as go\n",
    "\n",
    "# def main():\n",
    "#     X =  np.random.randint(1000,size = 1000)\n",
    "#     Y = np.random.randint(1000,size=1000)\n",
    "#     data = [go.Scatter(\n",
    "#         x = X,\n",
    "#         y = Y,\n",
    "#         mode = 'markers',\n",
    "#         )]\n",
    "#     layout = go.Layout(title='Scatter plot for random 1000 x and y coordinates',\n",
    "#             xaxis = dict(title='X-Coordinates'),\n",
    "#             yaxis = dict(title='Y-Coordinates')\n",
    "#             )\n",
    "#     figure = go.Figure(data=data,layout=layout)\n",
    "#     pyo.plot(figure)\n",
    "\n",
    "\n",
    "# if __name__ == \"__main__\":\n",
    "#     main()\n"
   ]
  }
 ],
 "metadata": {
  "kernelspec": {
   "display_name": "Python 3",
   "language": "python",
   "name": "python3"
  },
  "language_info": {
   "codemirror_mode": {
    "name": "ipython",
    "version": 3
   },
   "file_extension": ".py",
   "mimetype": "text/x-python",
   "name": "python",
   "nbconvert_exporter": "python",
   "pygments_lexer": "ipython3",
   "version": "3.12.4"
  }
 },
 "nbformat": 4,
 "nbformat_minor": 2
}
