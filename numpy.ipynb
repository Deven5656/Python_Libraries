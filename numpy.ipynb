{
 "cells": [
  {
   "cell_type": "markdown",
   "metadata": {},
   "source": [
    "\"\"\"<br>\n",
    "    @Author: Deven Gupta<br>\n",
    "    @Date: 5-08-2024<br>\n",
    "    @Last Modified by: Deven Gupta<br>\n",
    "    @Last Modified time: 5-08-2024<br>\n",
    "    @Title : Python programs on Numpy Library.<br>\n",
    "\"\"\"<br>"
   ]
  },
  {
   "cell_type": "code",
   "execution_count": 1,
   "metadata": {},
   "outputs": [],
   "source": [
    "import numpy as np"
   ]
  },
  {
   "cell_type": "markdown",
   "metadata": {},
   "source": [
    "## 1.Write a Python program to convert a list of numeric value into a one-dimensional NumPy array.\n",
    "Expected Output:<br>\n",
    "Original List: [12.23, 13.32, 100, 36.32]<br>\n",
    "One-dimensional numpy array: [ 12.23 13.32 100. 36.32]"
   ]
  },
  {
   "cell_type": "code",
   "execution_count": 2,
   "metadata": {},
   "outputs": [
    {
     "name": "stdout",
     "output_type": "stream",
     "text": [
      "<class 'numpy.ndarray'>\n",
      "The array of list is : [ 12.23  13.32 100.    36.32]\n"
     ]
    }
   ],
   "source": [
    "\n",
    "def main():\n",
    "    \"\"\"\n",
    "    Description :\n",
    "        This function used to convert a list of numeric value into a one-dimensional NumPy array.\n",
    "    Parameters :\n",
    "        None\n",
    "    return :\n",
    "        None\n",
    "    \"\"\"\n",
    "    lst = [12.23, 13.32, 100, 36.32]\n",
    "\n",
    "    arr =np.array(lst)\n",
    "\n",
    "    print(type(arr))\n",
    "    print(f\"The array of list is : {arr}\")\n",
    "\n",
    "if __name__ == \"__main__\":\n",
    "    main()"
   ]
  },
  {
   "cell_type": "markdown",
   "metadata": {},
   "source": [
    "## 2.Create a 3x3 matrix with values ranging from 2 to 10.\n",
    "Expected Output:<br>\n",
    "[[ 2 3 4]<br>\n",
    "[ 5 6 7]<br>\n",
    "[ 8 9 10]]"
   ]
  },
  {
   "cell_type": "code",
   "execution_count": 3,
   "metadata": {},
   "outputs": [
    {
     "name": "stdout",
     "output_type": "stream",
     "text": [
      "Array after converting to 2d :\n",
      " [[ 2  3  4]\n",
      " [ 5  6  7]\n",
      " [ 8  9 10]]\n"
     ]
    }
   ],
   "source": [
    "def main():\n",
    "    \n",
    "    # arr =np.array([x for x in range(2,11)])\n",
    "    arr =np.arange(2,11)\n",
    "\n",
    "    arr=arr.reshape(3,3)\n",
    "\n",
    "    print(f\"Array after converting to 2d :\\n {arr}\")\n",
    "    \n",
    "\n",
    "if __name__ == \"__main__\":\n",
    "    main()"
   ]
  }
 ],
 "metadata": {
  "kernelspec": {
   "display_name": "Python 3",
   "language": "python",
   "name": "python3"
  },
  "language_info": {
   "codemirror_mode": {
    "name": "ipython",
    "version": 3
   },
   "file_extension": ".py",
   "mimetype": "text/x-python",
   "name": "python",
   "nbconvert_exporter": "python",
   "pygments_lexer": "ipython3",
   "version": "3.12.4"
  }
 },
 "nbformat": 4,
 "nbformat_minor": 2
}
