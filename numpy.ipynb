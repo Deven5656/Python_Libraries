{
 "cells": [
  {
   "cell_type": "markdown",
   "metadata": {},
   "source": [
    "\"\"\"<br>\n",
    "    @Author: Deven Gupta<br>\n",
    "    @Date: 5-08-2024<br>\n",
    "    @Last Modified by: Deven Gupta<br>\n",
    "    @Last Modified time: 5-08-2024<br>\n",
    "    @Title : Python programs on Numpy Library.<br>\n",
    "\"\"\"<br>"
   ]
  },
  {
   "cell_type": "code",
   "execution_count": 1,
   "metadata": {},
   "outputs": [],
   "source": [
    "import numpy as np"
   ]
  },
  {
   "cell_type": "markdown",
   "metadata": {},
   "source": [
    "## 1.Write a Python program to convert a list of numeric value into a one-dimensional NumPy array.\n",
    "Expected Output:<br>\n",
    "Original List: [12.23, 13.32, 100, 36.32]<br>\n",
    "One-dimensional numpy array: [ 12.23 13.32 100. 36.32]"
   ]
  },
  {
   "cell_type": "code",
   "execution_count": 2,
   "metadata": {},
   "outputs": [
    {
     "name": "stdout",
     "output_type": "stream",
     "text": [
      "<class 'numpy.ndarray'>\n",
      "The array of list is : [ 12.23  13.32 100.    36.32]\n"
     ]
    }
   ],
   "source": [
    "\n",
    "def main():\n",
    "    \"\"\"\n",
    "    Description :\n",
    "        This function used to convert a list of numeric value into a one-dimensional NumPy array.\n",
    "    Parameters :\n",
    "        None\n",
    "    return :\n",
    "        None\n",
    "    \"\"\"\n",
    "    lst = [12.23, 13.32, 100, 36.32]\n",
    "\n",
    "    arr =np.array(lst)\n",
    "\n",
    "    print(type(arr))\n",
    "    print(f\"The array of list is : {arr}\")\n",
    "\n",
    "if __name__ == \"__main__\":\n",
    "    main()"
   ]
  },
  {
   "cell_type": "markdown",
   "metadata": {},
   "source": [
    "## 2.Create a 3x3 matrix with values ranging from 2 to 10.\n",
    "Expected Output:<br>\n",
    "[[ 2 3 4]<br>\n",
    "[ 5 6 7]<br>\n",
    "[ 8 9 10]]"
   ]
  },
  {
   "cell_type": "code",
   "execution_count": 3,
   "metadata": {},
   "outputs": [
    {
     "name": "stdout",
     "output_type": "stream",
     "text": [
      "Array after converting to 2d :\n",
      " [[ 2  3  4]\n",
      " [ 5  6  7]\n",
      " [ 8  9 10]]\n"
     ]
    }
   ],
   "source": [
    "def main():\n",
    "    \n",
    "    # arr =np.array([x for x in range(2,11)])\n",
    "    arr =np.arange(2,11)\n",
    "\n",
    "    arr=arr.reshape(3,3)\n",
    "\n",
    "    print(f\"Array after converting to 2d :\\n {arr}\")\n",
    "    \n",
    "\n",
    "if __name__ == \"__main__\":\n",
    "    main()"
   ]
  },
  {
   "cell_type": "markdown",
   "metadata": {},
   "source": [
    "## 3.Write a Python program to create a null vector of size 10 and update sixth value to 11.\n",
    "[ 0. 0. 0. 0. 0. 0. 0. 0. 0. 0.]<br>\n",
    "Update sixth value to 11\n",
    "[ 0. 0. 0. 0. 0. 0. 11. 0. 0. 0.]"
   ]
  },
  {
   "cell_type": "code",
   "execution_count": 4,
   "metadata": {},
   "outputs": [
    {
     "name": "stdout",
     "output_type": "stream",
     "text": [
      "Before modification : [0. 0. 0. 0. 0. 0. 0. 0. 0. 0.]\n",
      "After Modification : [ 0.  0.  0.  0.  0. 11.  0.  0.  0.  0.]\n"
     ]
    }
   ],
   "source": [
    "def main():\n",
    "\n",
    "    #np.zeros((row,col))   #[[]]  null matrix\n",
    "    arr =np.array([0 for i in range(10)],dtype='float')\n",
    "    print(f\"Before modification : {arr}\")\n",
    "\n",
    "    arr[5] = 11\n",
    "    print(f\"After Modification : {arr}\")\n",
    "\n",
    "    \n",
    "if __name__ == \"__main__\":\n",
    "    main()"
   ]
  },
  {
   "cell_type": "markdown",
   "metadata": {},
   "source": [
    "## 4.Write a Python program to reverse an array (first element becomes last).\n",
    "Original array:\n",
    "[12 13 14 15 16 17 18 19 20 21 22 23 24 25 26 27 28 29 30 31 32 33 34 35 36 37]<br>\n",
    "Reverse array:\n",
    "[37 36 35 34 33 32 31 30 29 28 27 26 25 24 23 22 21 20 19 18 17 16 15 14 13 12]"
   ]
  },
  {
   "cell_type": "code",
   "execution_count": 5,
   "metadata": {},
   "outputs": [
    {
     "name": "stdout",
     "output_type": "stream",
     "text": [
      "The original of array is [1 2 3 4 5 6 7 8]\n",
      "The reverse of array is [8 7 6 5 4 3 2 1]\n"
     ]
    }
   ],
   "source": [
    "def reverse_array(arr):\n",
    "    \"\"\"\n",
    "    Description :\n",
    "        This function used to reverse an aaray\n",
    "    Parameters :\n",
    "        arr : input array \n",
    "    return :\n",
    "        array : 1D reversed array\n",
    "    \"\"\"\n",
    "\n",
    "    arr=np.flip(arr)\n",
    "    \n",
    "    # start=0\n",
    "    # end =len(arr)-1\n",
    "    # while start < end :\n",
    "    #     arr[start],arr[end]=arr[end],arr[start]\n",
    "    #     start += 1\n",
    "    #     end -+ 1\n",
    "\n",
    "    return arr\n",
    "\n",
    "def main():\n",
    "    arr = np.array([1,2,3,4,5,6,7,8])\n",
    "\n",
    "    print(f\"The original of array is {arr}\")\n",
    "\n",
    "    print(f\"The reverse of array is {reverse_array(arr)}\")\n",
    "\n",
    "\n",
    "if __name__ == \"__main__\":\n",
    "    main()"
   ]
  },
  {
   "cell_type": "markdown",
   "metadata": {},
   "source": [
    "## 5.Write a Python program to create a 2d array with 1 on the border and 0 inside.\n",
    "Expected Output:\n",
    "Original array:\n",
    "[[ 1. 1. 1. 1. 1.]<br>\n",
    "[ 1. 1. 1. 1. 1.]<br>\n",
    "[ 1. 1. 1. 1. 1.]<br>\n",
    "[ 1. 1. 1. 1. 1.]<br>\n",
    "[ 1. 1. 1. 1. 1.]]<br>\n",
    "1 on the border and 0 inside in the array\n",
    "[[ 1. 1. 1. 1. 1.]<br>\n",
    "[ 1. 0. 0. 0. 1.]<br>\n",
    "[ 1. 0. 0. 0. 1.]<br>\n",
    "[ 1. 0. 0. 0. 1.]<br>\n",
    "[ 1. 1. 1. 1. 1.]]<br>"
   ]
  },
  {
   "cell_type": "code",
   "execution_count": 6,
   "metadata": {},
   "outputs": [
    {
     "name": "stdout",
     "output_type": "stream",
     "text": [
      "Before modification :\n",
      "[[1 1 1 1 1]\n",
      " [1 1 1 1 1]\n",
      " [1 1 1 1 1]\n",
      " [1 1 1 1 1]\n",
      " [1 1 1 1 1]]\n",
      "\n",
      "After modification :\n",
      "[[1 1 1 1 1]\n",
      " [1 0 0 0 1]\n",
      " [1 0 0 0 1]\n",
      " [1 0 0 0 1]\n",
      " [1 1 1 1 1]]\n"
     ]
    }
   ],
   "source": [
    "def print_pattern(arr):\n",
    "    \"\"\"\n",
    "    Description :\n",
    "        This function used to create a 2d array with 1 on the border and 0 inside\n",
    "    Parameters :\n",
    "        arr : input array \n",
    "    return :\n",
    "        array of 5x5(2D)\n",
    "    \"\"\"\n",
    "    # arr[1:-1, 1:-1] = 0\n",
    "     \n",
    "    for row in range(len(arr)):\n",
    "        for col in range(len(arr[0])):\n",
    "            if row != 0 and row !=len(arr)-1 and col != 0 and col!=len(arr)-1 :\n",
    "                arr[row,col]=0\n",
    "\n",
    "    return arr\n",
    "\n",
    "\n",
    "def main():\n",
    "    arr = np.array([1 for num in range(25)])\n",
    "\n",
    "    arr = arr.reshape(5,5)\n",
    "\n",
    "    print(f\"Before modification :\\n{arr}\\n\")   \n",
    "    print(f\"After modification :\\n{print_pattern(arr)}\")\n",
    "\n",
    "\n",
    "if __name__ == \"__main__\":\n",
    "    main()"
   ]
  },
  {
   "cell_type": "markdown",
   "metadata": {},
   "source": [
    "## 6.Write a Python program to add a border (filled with 0's) around an existing array.\n",
    "Expected Output:<br>\n",
    "Original array:<br>\n",
    "[[ 1. 1. 1.]<br>\n",
    "[ 1. 1. 1.]<br>\n",
    "[ 1. 1. 1.]]<br>\n",
    "1 on the border and 0 inside in the array<br>\n",
    "[[ 0. 0. 0. 0. 0.]<br>\n",
    "[ 0. 1. 1. 1. 0.]<br>\n",
    "[ 0. 1. 1. 1. 0.]<br>\n",
    "[ 0. 1. 1. 1. 0.]<br>\n",
    "[ 0. 0. 0. 0. 0.]]"
   ]
  },
  {
   "cell_type": "code",
   "execution_count": 7,
   "metadata": {},
   "outputs": [
    {
     "name": "stdout",
     "output_type": "stream",
     "text": [
      "Before modification :\n",
      "[[1 1 1]\n",
      " [1 1 1]\n",
      " [1 1 1]]\n",
      "\n",
      "After modification :\n",
      "[[0 0 0 0 0]\n",
      " [0 1 1 1 0]\n",
      " [0 1 1 1 0]\n",
      " [0 1 1 1 0]\n",
      " [0 0 0 0 0]]\n"
     ]
    }
   ],
   "source": [
    "def pattern(arr):\n",
    "    \"\"\"\n",
    "    Description :\n",
    "        This function used to add border of zero (padding)\n",
    "    Parameters :\n",
    "        arr : input array \n",
    "    return :\n",
    "        array of 5x5(2D)\n",
    "    \"\"\"\n",
    "\n",
    "    # modified_aaray=np.pad(arr,pad_width=1,mode='constant',constant_values=0)\n",
    "\n",
    "    modified_aaray = np.array([0 for _ in range(25)]).reshape(5,5)\n",
    "\n",
    "    modified_aaray[1:-1,1:-1]=arr\n",
    "\n",
    "    return modified_aaray\n",
    "\n",
    "def main():\n",
    "    arr = np.array([1 for num in range(9)])\n",
    "\n",
    "    arr = arr.reshape(3,3)\n",
    "    print(f\"Before modification :\\n{arr}\\n\")\n",
    "    print(f\"After modification :\\n{pattern(arr)}\")\n",
    "\n",
    "    \n",
    "if __name__ == \"__main__\":\n",
    "    main()"
   ]
  },
  {
   "cell_type": "markdown",
   "metadata": {},
   "source": [
    "## 7. Write a Python program to create a 8x8 matrix and fill it with a checkerboard pattern.\n",
    "Checkerboard pattern:<br>\n",
    "[[0 1 0 1 0 1 0 1]<br>\n",
    "[1 0 1 0 1 0 1 0]<br>\n",
    "[0 1 0 1 0 1 0 1]<br>\n",
    "[1 0 1 0 1 0 1 0]<br>\n",
    "[0 1 0 1 0 1 0 1]<br>\n",
    "[1 0 1 0 1 0 1 0]<br>\n",
    "[0 1 0 1 0 1 0 1]<br>\n",
    "[1 0 1 0 1 0 1 0]]\n"
   ]
  },
  {
   "cell_type": "code",
   "execution_count": 8,
   "metadata": {},
   "outputs": [
    {
     "name": "stdout",
     "output_type": "stream",
     "text": [
      "Checkboard Pattern : \n",
      "[[0 1 0 1 0 1 0 1]\n",
      " [1 0 1 0 1 0 1 0]\n",
      " [0 1 0 1 0 1 0 1]\n",
      " [1 0 1 0 1 0 1 0]\n",
      " [0 1 0 1 0 1 0 1]\n",
      " [1 0 1 0 1 0 1 0]\n",
      " [0 1 0 1 0 1 0 1]\n",
      " [1 0 1 0 1 0 1 0]]\n"
     ]
    }
   ],
   "source": [
    "def main():\n",
    "    arr = np.array([[(row + col) % 2 for col in range(8)]for row in range(8)])\n",
    "\n",
    "    print(f\"Checkboard Pattern : \\n{arr}\")\n",
    "\n",
    "    \n",
    "if __name__ == \"__main__\":\n",
    "    main()"
   ]
  },
  {
   "cell_type": "markdown",
   "metadata": {},
   "source": [
    "## 8. Write a Python program to convert a list and tuple into arrays.\n",
    "List to array:\n",
    "[1 2 3 4 5 6 7 8]\n",
    "Tuple to array:\n",
    "[[8 4 6]\n",
    "[1 2 3]]"
   ]
  },
  {
   "cell_type": "code",
   "execution_count": 9,
   "metadata": {},
   "outputs": [
    {
     "name": "stdout",
     "output_type": "stream",
     "text": [
      "List to array : [1 2 3 4 5 6 7 8] \n",
      " Tuple to array : \n",
      " [[1 2 3 4]\n",
      " [5 6 7 8]]\n"
     ]
    }
   ],
   "source": [
    "def main():\n",
    "    lst = [1,2,3,4,5,6,7,8]\n",
    "    tup = (1,2,3,4,5,6,7,8)\n",
    "\n",
    "    arr_list = np.array(lst)\n",
    "    arr_tup = np.array(tup).reshape(2,4)\n",
    "\n",
    "    print(f\"List to array : {arr_list} \\n Tuple to array : \\n {arr_tup}\")\n",
    "\n",
    "\n",
    "if __name__ == \"__main__\":\n",
    "    main()"
   ]
  }
 ],
 "metadata": {
  "kernelspec": {
   "display_name": "Python 3",
   "language": "python",
   "name": "python3"
  },
  "language_info": {
   "codemirror_mode": {
    "name": "ipython",
    "version": 3
   },
   "file_extension": ".py",
   "mimetype": "text/x-python",
   "name": "python",
   "nbconvert_exporter": "python",
   "pygments_lexer": "ipython3",
   "version": "3.12.4"
  }
 },
 "nbformat": 4,
 "nbformat_minor": 2
}
