{
 "cells": [
  {
   "cell_type": "markdown",
   "metadata": {},
   "source": [
    "\"\"\"<br>\n",
    "    @Author: Deven Gupta<br>\n",
    "    @Date: 5-08-2024<br>\n",
    "    @Last Modified by: Deven Gupta<br>\n",
    "    @Last Modified time: 5-08-2024<br>\n",
    "    @Title : Python programs on Numpy Library.<br>\n",
    "\"\"\"<br>"
   ]
  },
  {
   "cell_type": "code",
   "execution_count": 1,
   "metadata": {},
   "outputs": [],
   "source": [
    "import numpy as np"
   ]
  },
  {
   "cell_type": "markdown",
   "metadata": {},
   "source": [
    "## 1.Write a Python program to convert a list of numeric value into a one-dimensional NumPy array.\n",
    "Expected Output:<br>\n",
    "Original List: [12.23, 13.32, 100, 36.32]<br>\n",
    "One-dimensional numpy array: [ 12.23 13.32 100. 36.32]"
   ]
  },
  {
   "cell_type": "code",
   "execution_count": 2,
   "metadata": {},
   "outputs": [
    {
     "name": "stdout",
     "output_type": "stream",
     "text": [
      "<class 'numpy.ndarray'>\n",
      "The array of list is : [ 12.23  13.32 100.    36.32]\n"
     ]
    }
   ],
   "source": [
    "\n",
    "def main():\n",
    "    \"\"\"\n",
    "    Description :\n",
    "        This function used to convert a list of numeric value into a one-dimensional NumPy array.\n",
    "    Parameters :\n",
    "        None\n",
    "    return :\n",
    "        None\n",
    "    \"\"\"\n",
    "    lst = [12.23, 13.32, 100, 36.32]\n",
    "\n",
    "    arr =np.array(lst)\n",
    "\n",
    "    print(type(arr))\n",
    "    print(f\"The array of list is : {arr}\")\n",
    "\n",
    "if __name__ == \"__main__\":\n",
    "    main()"
   ]
  },
  {
   "cell_type": "markdown",
   "metadata": {},
   "source": [
    "## 2.Create a 3x3 matrix with values ranging from 2 to 10.\n",
    "Expected Output:<br>\n",
    "[[ 2 3 4]<br>\n",
    "[ 5 6 7]<br>\n",
    "[ 8 9 10]]"
   ]
  },
  {
   "cell_type": "code",
   "execution_count": 3,
   "metadata": {},
   "outputs": [
    {
     "name": "stdout",
     "output_type": "stream",
     "text": [
      "Array after converting to 2d :\n",
      " [[ 2  3  4]\n",
      " [ 5  6  7]\n",
      " [ 8  9 10]]\n"
     ]
    }
   ],
   "source": [
    "def main():\n",
    "    \n",
    "    # arr =np.array([x for x in range(2,11)])\n",
    "    arr =np.arange(2,11)\n",
    "\n",
    "    arr=arr.reshape(3,3)\n",
    "\n",
    "    print(f\"Array after converting to 2d :\\n {arr}\")\n",
    "    \n",
    "\n",
    "if __name__ == \"__main__\":\n",
    "    main()"
   ]
  },
  {
   "cell_type": "markdown",
   "metadata": {},
   "source": [
    "## 3.Write a Python program to create a null vector of size 10 and update sixth value to 11.\n",
    "[ 0. 0. 0. 0. 0. 0. 0. 0. 0. 0.]<br>\n",
    "Update sixth value to 11\n",
    "[ 0. 0. 0. 0. 0. 0. 11. 0. 0. 0.]"
   ]
  },
  {
   "cell_type": "code",
   "execution_count": 4,
   "metadata": {},
   "outputs": [
    {
     "name": "stdout",
     "output_type": "stream",
     "text": [
      "Before modification : [0. 0. 0. 0. 0. 0. 0. 0. 0. 0.]\n",
      "After Modification : [ 0.  0.  0.  0.  0. 11.  0.  0.  0.  0.]\n"
     ]
    }
   ],
   "source": [
    "def main():\n",
    "\n",
    "    #np.zeros((row,col))   #[[]]  null matrix\n",
    "    arr =np.array([0 for i in range(10)],dtype='float')\n",
    "    print(f\"Before modification : {arr}\")\n",
    "\n",
    "    arr[5] = 11\n",
    "    print(f\"After Modification : {arr}\")\n",
    "\n",
    "    \n",
    "if __name__ == \"__main__\":\n",
    "    main()"
   ]
  },
  {
   "cell_type": "markdown",
   "metadata": {},
   "source": [
    "## 4.Write a Python program to reverse an array (first element becomes last).\n",
    "Original array:\n",
    "[12 13 14 15 16 17 18 19 20 21 22 23 24 25 26 27 28 29 30 31 32 33 34 35 36 37]<br>\n",
    "Reverse array:\n",
    "[37 36 35 34 33 32 31 30 29 28 27 26 25 24 23 22 21 20 19 18 17 16 15 14 13 12]"
   ]
  },
  {
   "cell_type": "code",
   "execution_count": 5,
   "metadata": {},
   "outputs": [
    {
     "name": "stdout",
     "output_type": "stream",
     "text": [
      "The original of array is [1 2 3 4 5 6 7 8]\n",
      "The reverse of array is [8 7 6 5 4 3 2 1]\n"
     ]
    }
   ],
   "source": [
    "def reverse_array(arr):\n",
    "    \"\"\"\n",
    "    Description :\n",
    "        This function used to reverse an aaray\n",
    "    Parameters :\n",
    "        arr : input array \n",
    "    return :\n",
    "        array : 1D reversed array\n",
    "    \"\"\"\n",
    "\n",
    "    arr=np.flip(arr)\n",
    "    \n",
    "    # start=0\n",
    "    # end =len(arr)-1\n",
    "    # while start < end :\n",
    "    #     arr[start],arr[end]=arr[end],arr[start]\n",
    "    #     start += 1\n",
    "    #     end -+ 1\n",
    "\n",
    "    return arr\n",
    "\n",
    "def main():\n",
    "    arr = np.array([1,2,3,4,5,6,7,8])\n",
    "\n",
    "    print(f\"The original of array is {arr}\")\n",
    "\n",
    "    print(f\"The reverse of array is {reverse_array(arr)}\")\n",
    "\n",
    "\n",
    "if __name__ == \"__main__\":\n",
    "    main()"
   ]
  },
  {
   "cell_type": "markdown",
   "metadata": {},
   "source": [
    "## 5.Write a Python program to create a 2d array with 1 on the border and 0 inside.\n",
    "Expected Output:\n",
    "Original array:\n",
    "[[ 1. 1. 1. 1. 1.]<br>\n",
    "[ 1. 1. 1. 1. 1.]<br>\n",
    "[ 1. 1. 1. 1. 1.]<br>\n",
    "[ 1. 1. 1. 1. 1.]<br>\n",
    "[ 1. 1. 1. 1. 1.]]<br>\n",
    "1 on the border and 0 inside in the array\n",
    "[[ 1. 1. 1. 1. 1.]<br>\n",
    "[ 1. 0. 0. 0. 1.]<br>\n",
    "[ 1. 0. 0. 0. 1.]<br>\n",
    "[ 1. 0. 0. 0. 1.]<br>\n",
    "[ 1. 1. 1. 1. 1.]]<br>"
   ]
  },
  {
   "cell_type": "code",
   "execution_count": 6,
   "metadata": {},
   "outputs": [
    {
     "name": "stdout",
     "output_type": "stream",
     "text": [
      "Before modification :\n",
      "[[1 1 1 1 1]\n",
      " [1 1 1 1 1]\n",
      " [1 1 1 1 1]\n",
      " [1 1 1 1 1]\n",
      " [1 1 1 1 1]]\n",
      "\n",
      "After modification :\n",
      "[[1 1 1 1 1]\n",
      " [1 0 0 0 1]\n",
      " [1 0 0 0 1]\n",
      " [1 0 0 0 1]\n",
      " [1 1 1 1 1]]\n"
     ]
    }
   ],
   "source": [
    "def print_pattern(arr):\n",
    "    \"\"\"\n",
    "    Description :\n",
    "        This function used to create a 2d array with 1 on the border and 0 inside\n",
    "    Parameters :\n",
    "        arr : input array \n",
    "    return :\n",
    "        array of 5x5(2D)\n",
    "    \"\"\"\n",
    "    # arr[1:-1, 1:-1] = 0\n",
    "     \n",
    "    for row in range(len(arr)):\n",
    "        for col in range(len(arr[0])):\n",
    "            if row != 0 and row !=len(arr)-1 and col != 0 and col!=len(arr)-1 :\n",
    "                arr[row,col]=0\n",
    "\n",
    "    return arr\n",
    "\n",
    "\n",
    "def main():\n",
    "    arr = np.array([1 for num in range(25)])\n",
    "\n",
    "    arr = arr.reshape(5,5)\n",
    "\n",
    "    print(f\"Before modification :\\n{arr}\\n\")   \n",
    "    print(f\"After modification :\\n{print_pattern(arr)}\")\n",
    "\n",
    "\n",
    "if __name__ == \"__main__\":\n",
    "    main()"
   ]
  },
  {
   "cell_type": "markdown",
   "metadata": {},
   "source": [
    "## 6.Write a Python program to add a border (filled with 0's) around an existing array.\n",
    "Expected Output:<br>\n",
    "Original array:<br>\n",
    "[[ 1. 1. 1.]<br>\n",
    "[ 1. 1. 1.]<br>\n",
    "[ 1. 1. 1.]]<br>\n",
    "1 on the border and 0 inside in the array<br>\n",
    "[[ 0. 0. 0. 0. 0.]<br>\n",
    "[ 0. 1. 1. 1. 0.]<br>\n",
    "[ 0. 1. 1. 1. 0.]<br>\n",
    "[ 0. 1. 1. 1. 0.]<br>\n",
    "[ 0. 0. 0. 0. 0.]]"
   ]
  },
  {
   "cell_type": "code",
   "execution_count": 7,
   "metadata": {},
   "outputs": [
    {
     "name": "stdout",
     "output_type": "stream",
     "text": [
      "Before modification :\n",
      "[[1 1 1]\n",
      " [1 1 1]\n",
      " [1 1 1]]\n",
      "\n",
      "After modification :\n",
      "[[0 0 0 0 0]\n",
      " [0 1 1 1 0]\n",
      " [0 1 1 1 0]\n",
      " [0 1 1 1 0]\n",
      " [0 0 0 0 0]]\n"
     ]
    }
   ],
   "source": [
    "def pattern(arr):\n",
    "    \"\"\"\n",
    "    Description :\n",
    "        This function used to add border of zero (padding)\n",
    "    Parameters :\n",
    "        arr : input array \n",
    "    return :\n",
    "        array of 5x5(2D)\n",
    "    \"\"\"\n",
    "\n",
    "    # modified_aaray=np.pad(arr,pad_width=1,mode='constant',constant_values=0)\n",
    "\n",
    "    modified_aaray = np.array([0 for _ in range(25)]).reshape(5,5)\n",
    "\n",
    "    modified_aaray[1:-1,1:-1]=arr\n",
    "\n",
    "    return modified_aaray\n",
    "\n",
    "def main():\n",
    "    arr = np.array([1 for num in range(9)])\n",
    "\n",
    "    arr = arr.reshape(3,3)\n",
    "    print(f\"Before modification :\\n{arr}\\n\")\n",
    "    print(f\"After modification :\\n{pattern(arr)}\")\n",
    "\n",
    "    \n",
    "if __name__ == \"__main__\":\n",
    "    main()"
   ]
  },
  {
   "cell_type": "markdown",
   "metadata": {},
   "source": [
    "## 7. Write a Python program to create a 8x8 matrix and fill it with a checkerboard pattern.\n",
    "Checkerboard pattern:<br>\n",
    "[[0 1 0 1 0 1 0 1]<br>\n",
    "[1 0 1 0 1 0 1 0]<br>\n",
    "[0 1 0 1 0 1 0 1]<br>\n",
    "[1 0 1 0 1 0 1 0]<br>\n",
    "[0 1 0 1 0 1 0 1]<br>\n",
    "[1 0 1 0 1 0 1 0]<br>\n",
    "[0 1 0 1 0 1 0 1]<br>\n",
    "[1 0 1 0 1 0 1 0]]\n"
   ]
  },
  {
   "cell_type": "code",
   "execution_count": 8,
   "metadata": {},
   "outputs": [
    {
     "name": "stdout",
     "output_type": "stream",
     "text": [
      "Checkboard Pattern : \n",
      "[[0 1 0 1 0 1 0 1]\n",
      " [1 0 1 0 1 0 1 0]\n",
      " [0 1 0 1 0 1 0 1]\n",
      " [1 0 1 0 1 0 1 0]\n",
      " [0 1 0 1 0 1 0 1]\n",
      " [1 0 1 0 1 0 1 0]\n",
      " [0 1 0 1 0 1 0 1]\n",
      " [1 0 1 0 1 0 1 0]]\n"
     ]
    }
   ],
   "source": [
    "def main():\n",
    "    arr = np.array([[(row + col) % 2 for col in range(8)]for row in range(8)])\n",
    "\n",
    "    print(f\"Checkboard Pattern : \\n{arr}\")\n",
    "\n",
    "    \n",
    "if __name__ == \"__main__\":\n",
    "    main()"
   ]
  },
  {
   "cell_type": "markdown",
   "metadata": {},
   "source": [
    "## 8. Write a Python program to convert a list and tuple into arrays.\n",
    "List to array:\n",
    "[1 2 3 4 5 6 7 8]\n",
    "Tuple to array:\n",
    "[[8 4 6]\n",
    "[1 2 3]]"
   ]
  },
  {
   "cell_type": "code",
   "execution_count": 9,
   "metadata": {},
   "outputs": [
    {
     "name": "stdout",
     "output_type": "stream",
     "text": [
      "List to array : [1 2 3 4 5 6 7 8] \n",
      " Tuple to array : \n",
      " [[1 2 3 4]\n",
      " [5 6 7 8]]\n"
     ]
    }
   ],
   "source": [
    "def main():\n",
    "    lst = [1,2,3,4,5,6,7,8]\n",
    "    tup = (1,2,3,4,5,6,7,8)\n",
    "\n",
    "    arr_list = np.array(lst)\n",
    "    arr_tup = np.array(tup).reshape(2,4)\n",
    "\n",
    "    print(f\"List to array : {arr_list} \\n Tuple to array : \\n {arr_tup}\")\n",
    "\n",
    "\n",
    "if __name__ == \"__main__\":\n",
    "    main()"
   ]
  },
  {
   "cell_type": "markdown",
   "metadata": {},
   "source": [
    "## 9.Write a Python program to append values to the end of an array.\n",
    "Expected Output:<br>\n",
    "Original array:<br>\n",
    "[10, 20, 30]<br>\n",
    "After append values to the end of the array:<br>\n",
    "[10 20 30 40 50 60 70 80 90]\n"
   ]
  },
  {
   "cell_type": "code",
   "execution_count": 10,
   "metadata": {},
   "outputs": [
    {
     "name": "stdout",
     "output_type": "stream",
     "text": [
      "Original array : \n",
      "[10 20 30]\n",
      "After append values to the end of the array : \n",
      "[10 20 30 40 50 60 70 80 90]\n"
     ]
    }
   ],
   "source": [
    "def main():\n",
    "    arr =np.array([10,20,30])\n",
    "    print(f\"Original array : \\n{arr}\")\n",
    "\n",
    "    arr = np.append(arr ,[40,50,60,70,80,90])\n",
    "\n",
    "    print(f\"After append values to the end of the array : \\n{arr}\")\n",
    "\n",
    "\n",
    "if __name__ == \"__main__\":\n",
    "    main()"
   ]
  },
  {
   "cell_type": "markdown",
   "metadata": {},
   "source": [
    "## 10.Write a Python program to find the real and imaginary parts of an array of complex\n",
    "numbers.\n",
    "Expected Output:\n",
    "Original array [ 1.00000000+0.j 0.70710678+0.70710678j]<br>\n",
    "Real part of the array:<br>\n",
    "[ 1. 0.70710678]<br>\n",
    "Imaginary part of the array:<br>\n",
    "[ 0. 0.70710678]\n"
   ]
  },
  {
   "cell_type": "code",
   "execution_count": 11,
   "metadata": {},
   "outputs": [
    {
     "name": "stdout",
     "output_type": "stream",
     "text": [
      "Real part : \n",
      "[1. 4.]\n",
      "Imaginary part :\n",
      "[2. 3.]\n"
     ]
    }
   ],
   "source": [
    "def main():\n",
    "\n",
    "    arr =np.array([ 1+2j,4+3j])\n",
    "    print(f\"Real part : \\n{arr.real}\\nImaginary part :\\n{arr.imag}\")\n",
    "\n",
    "\n",
    "if __name__ == \"__main__\":\n",
    "    main()"
   ]
  },
  {
   "cell_type": "markdown",
   "metadata": {},
   "source": [
    "## 11.Write a Python program to find the number of elements of an array, length of one array element in bytes and total bytes consumed by the elements.\n",
    "Expected Output:<br>\n",
    "Size of the array: 3<br>\n",
    "Length of one array element in bytes: 8<br>\n",
    "Total bytes consumed by the elements of the array: 24\n"
   ]
  },
  {
   "cell_type": "code",
   "execution_count": 12,
   "metadata": {},
   "outputs": [
    {
     "name": "stdout",
     "output_type": "stream",
     "text": [
      "Size of array : 6 \n",
      "Length of element in byte : 8 \n",
      "Total Bytes : 48\n"
     ]
    }
   ],
   "source": [
    "def main():\n",
    "    \n",
    "      arr = np.array([1,2,3,4,5,6])\n",
    "\n",
    "      size = arr.size\n",
    "      size_of_element = arr.itemsize\n",
    "      total_bytes = arr.nbytes            #size * size_of_element\n",
    "\n",
    "      print(f\"Size of array : {size}\",\n",
    "            f\"\\nLength of element in byte : {size_of_element}\",\n",
    "            f\"\\nTotal Bytes : {total_bytes}\")\n",
    "\n",
    "\n",
    "if __name__ == \"__main__\":\n",
    "    main()"
   ]
  },
  {
   "cell_type": "markdown",
   "metadata": {},
   "source": [
    "## 12.Write a Python program to find common values between two arrays.\n",
    "Expected Output:<br>\n",
    "Array1: [ 0 10 20 40 60]<br>\n",
    "Array2: [10, 30, 40]<br>\n",
    "Common values between two arrays:<br>\n",
    "[10 40]\n"
   ]
  },
  {
   "cell_type": "code",
   "execution_count": 13,
   "metadata": {},
   "outputs": [
    {
     "name": "stdout",
     "output_type": "stream",
     "text": [
      "Common Elements are [10, 40]\n"
     ]
    }
   ],
   "source": [
    "def common_element(arr1,arr2):\n",
    "    common_element=[]\n",
    "\n",
    "    for element in arr1:\n",
    "        if element in arr2:\n",
    "            common_element.append(int(element))\n",
    "\n",
    "    return common_element\n",
    "\n",
    "def main():\n",
    "    arr1 = np.array([0,10,20,40,60])\n",
    "    arr2 = np.array([10,30,40])\n",
    "\n",
    "    print(f\"Common Elements are {common_element(arr1,arr2)}\")\n",
    "\n",
    "\n",
    "if __name__ == \"__main__\":\n",
    "    main()"
   ]
  },
  {
   "cell_type": "markdown",
   "metadata": {},
   "source": [
    "## 13.Write a Python program to find the set difference of two arrays. The set difference will return the sorted, unique values in array1 that are not in array2.\n",
    "Expected Output:<br>\n",
    "Array1: [ 0 10 20 40 60 80]<br>\n",
    "Array2: [10, 30, 40, 50, 70, 90]<br>\n",
    "Set difference between two arrays:<br>\n",
    "[ 0 20 60 80]\n"
   ]
  },
  {
   "cell_type": "code",
   "execution_count": 15,
   "metadata": {},
   "outputs": [
    {
     "name": "stdout",
     "output_type": "stream",
     "text": [
      "The set difference is : [0, 20, 60, 80]\n"
     ]
    }
   ],
   "source": [
    "def set_diff(arr1,arr2):\n",
    "    \"\"\"\n",
    "    Description :\n",
    "        This function used to find the set differences of arrays\n",
    "    Parameters :\n",
    "        arr1 : 1st input array \n",
    "        arr2 : 2nd input array \n",
    "    return :\n",
    "        list \n",
    "    \"\"\"\n",
    "\n",
    "    # set_difference = np.setdiff1d(arr1,arr2)\n",
    "\n",
    "    set_difference = []\n",
    "    for element in arr1:\n",
    "        if element not in arr2:\n",
    "            set_difference.append(int(element))\n",
    "\n",
    "    return set_difference\n",
    "\n",
    "def main():\n",
    "\n",
    "    arr1 =np.array([0, 10, 20, 40, 60, 80])\n",
    "    arr2 =np.array([10, 30, 40, 50, 70, 90])\n",
    "\n",
    "    print(f\"The set difference is : {set_diff(arr1,arr2)}\")\n",
    "\n",
    "\n",
    "if __name__ == \"__main__\":\n",
    "    main()"
   ]
  },
  {
   "cell_type": "markdown",
   "metadata": {},
   "source": [
    "## 14.Write a Python program to find the set exclusive-or of two arrays. Set exclusive-or will return the sorted, unique values that are in only one (not both) of the input arrays.\n",
    "Array1: [ 0 10 20 40 60 80]<br>\n",
    "Array2: [10, 30, 40, 50, 70]<br>\n",
    "Unique values that are in only one (not both) of the input arrays:<br>\n",
    "[ 0 20 30 50 60 70 80]"
   ]
  },
  {
   "cell_type": "code",
   "execution_count": 18,
   "metadata": {},
   "outputs": [
    {
     "name": "stdout",
     "output_type": "stream",
     "text": [
      "The Set XOR of arrays is : [ 0 20 30 50 60 70 80 90]\n"
     ]
    }
   ],
   "source": [
    "def set_xor(arr1,arr2):\n",
    "    \"\"\"\n",
    "    Description :\n",
    "        This function used to find the set exclusive-or of arrays\n",
    "    Parameters :\n",
    "        arr1 : 1st input array \n",
    "        arr2 : 2nd input array \n",
    "    return :\n",
    "        array\n",
    "    \"\"\"\n",
    "\n",
    "    set_xor = np.setxor1d(arr1,arr2)\n",
    "\n",
    "    return set_xor\n",
    "\n",
    "def main():\n",
    "\n",
    "    arr1 =np.array([0, 10, 20, 40, 60, 80])\n",
    "    arr2 =np.array([10, 30, 40, 50, 70, 90])\n",
    "\n",
    "    print(f\"The Set XOR of arrays is : {set_xor(arr1,arr2)}\")\n",
    "\n",
    "\n",
    "if __name__ == \"__main__\":\n",
    "    main()"
   ]
  },
  {
   "cell_type": "markdown",
   "metadata": {},
   "source": [
    "## 15.Write a Python program compare two arrays using numpy.\n",
    "Array a: [1 2]<br>\n",
    "Array b: [4 5]<br>\n",
    "a > b<br>\n",
    "[False False]<br>\n",
    "a >= b<br>\n",
    "[False False]<br>\n",
    "a < b<br>\n",
    "[ True True]<br>\n",
    "a <= b<br>\n",
    "[ True True]\n"
   ]
  },
  {
   "cell_type": "code",
   "execution_count": 20,
   "metadata": {},
   "outputs": [
    {
     "name": "stdout",
     "output_type": "stream",
     "text": [
      "a>b : [False False]\n",
      "a>=b : [False False]\n",
      "a<b : [ True  True]\n",
      "a<=b : [ True  True]\n"
     ]
    }
   ],
   "source": [
    "def main():\n",
    "    arr1 =np.array([1,2])\n",
    "    arr2 =np.array([3,4])\n",
    "\n",
    "    print(f\"a>b : {arr1 > arr2}\")\n",
    "    print(f\"a>=b : {arr1 >= arr2}\")\n",
    "    print(f\"a<b : {arr1 < arr2}\")\n",
    "    print(f\"a<=b : {arr1 <= arr2}\")\n",
    "\n",
    "\n",
    "if __name__ == \"__main__\":\n",
    "    main()"
   ]
  },
  {
   "cell_type": "markdown",
   "metadata": {},
   "source": [
    "## 16.Write a Python program to save a NumPy array to a text file."
   ]
  },
  {
   "cell_type": "code",
   "execution_count": 21,
   "metadata": {},
   "outputs": [],
   "source": [
    "def main():\n",
    "    arr =np.array([1,2,3,4,5,602])\n",
    "\n",
    "    np.savetxt(\"arr.txt\",arr)\n",
    "\n",
    "if __name__ == \"__main__\":\n",
    "    main()"
   ]
  },
  {
   "cell_type": "markdown",
   "metadata": {},
   "source": [
    "## 17.Write a Python program to create a contiguous flattened array.\n",
    "Original array:<br>\n",
    "[[10 20 30]<br>\n",
    "[20 40 50]]<br>\n",
    "New flattened array:<br>\n",
    "[10 20 30 20 40 50]"
   ]
  },
  {
   "cell_type": "code",
   "execution_count": 22,
   "metadata": {},
   "outputs": [
    {
     "name": "stdout",
     "output_type": "stream",
     "text": [
      "New flattened array : [10 20 30 20 40 50]\n"
     ]
    }
   ],
   "source": [
    "def main():\n",
    "\n",
    "    arr = np.array([[10,20,30],[20,40,50]])\n",
    "    newarr = np.ravel(arr)\n",
    "\n",
    "    print(f\"New flattened array : {newarr}\")\n",
    "\n",
    "\n",
    "if __name__ == \"__main__\":\n",
    "    main()"
   ]
  },
  {
   "cell_type": "markdown",
   "metadata": {},
   "source": [
    "## 18.Write a Python program to change the data type of an array.\n",
    "Expected Output:<br>\n",
    "[[ 2 4 6]<br>\n",
    "[ 6 8 10]]<br>\n",
    "Data type of the array x is: int32<br>\n",
    "New Type: float64<br>\n",
    "[[ 2. 4. 6.]<br>\n",
    "[ 6. 8. 10.]]"
   ]
  },
  {
   "cell_type": "code",
   "execution_count": 23,
   "metadata": {},
   "outputs": [
    {
     "name": "stdout",
     "output_type": "stream",
     "text": [
      "The array is \n",
      "[[ 2  4  6]\n",
      " [ 6  8 10]]\n",
      "\n",
      "The original datatype of array is int64\n",
      "\n",
      "The new array after changing datatype is \n",
      "[[ 2.  4.  6.]\n",
      " [ 6.  8. 10.]]\n",
      "\n",
      "The datatype of array is float64\n"
     ]
    }
   ],
   "source": [
    "def main():\n",
    "    arr = np.array([[2,4,6],[6,8,10]])\n",
    "\n",
    "    print(f\"The array is \\n{arr}\")\n",
    "    print(f\"\\nThe original datatype of array is {arr.dtype}\")\n",
    "\n",
    "\n",
    "    newarr = arr.astype('float')\n",
    "    print(f\"\\nThe new array after changing datatype is \\n{newarr}\")\n",
    "    print(f\"\\nThe datatype of array is {newarr.dtype}\")\n",
    "\n",
    "\n",
    "\n",
    "if __name__ == \"__main__\":\n",
    "    main()"
   ]
  },
  {
   "cell_type": "markdown",
   "metadata": {},
   "source": [
    "## 19.Write a Python program to create a 3-D array with ones on a diagonal and zeros elsewhere.\n",
    "Expected Output:<br>\n",
    "[[ 1. 0. 0.]<br>\n",
    "[ 0. 1. 0.]<br>\n",
    "[ 0. 0. 1.]]\n"
   ]
  },
  {
   "cell_type": "code",
   "execution_count": 24,
   "metadata": {},
   "outputs": [
    {
     "name": "stdout",
     "output_type": "stream",
     "text": [
      "The Array is : \n",
      "[[1. 0. 0.]\n",
      " [0. 1. 0.]\n",
      " [0. 0. 1.]]\n"
     ]
    }
   ],
   "source": [
    "def main():\n",
    "    arr =np.identity(3)\n",
    "\n",
    "    print(f\"The Array is : \\n{arr}\")\n",
    "\n",
    "if __name__ == \"__main__\":\n",
    "    main()"
   ]
  },
  {
   "cell_type": "markdown",
   "metadata": {},
   "source": [
    "## 20.Write a Python program to create an array which looks like below array.\n",
    "Expected Output:<br>\n",
    "[[ 0. 0. 0.]<br>\n",
    "[ 1. 0. 0.]<br>\n",
    "[ 1. 1. 0.]<br>\n",
    "[ 1. 1. 1.]]"
   ]
  },
  {
   "cell_type": "code",
   "execution_count": 26,
   "metadata": {},
   "outputs": [
    {
     "name": "stdout",
     "output_type": "stream",
     "text": [
      "output pattern :\n",
      " [[0 0 0]\n",
      " [1 0 0]\n",
      " [1 1 0]\n",
      " [1 1 1]]\n"
     ]
    }
   ],
   "source": [
    "def main():\n",
    "    arr = np.zeros((4, 3), dtype=int)\n",
    "    \n",
    "    # new = np.tril(arr)\n",
    "\n",
    "    for i in range(4):\n",
    "        for j in range(i):\n",
    "            arr[i, j] = 1\n",
    "\n",
    "    print(\"output pattern :\\n\",arr)\n",
    "\n",
    "\n",
    "if __name__ == \"__main__\":\n",
    "    main()"
   ]
  },
  {
   "cell_type": "markdown",
   "metadata": {},
   "source": [
    "## 21. Write a Python program to concatenate two 2-dimensional arrays.\n",
    "Expected Output:<br>\n",
    "Sample arrays: ([[0, 1, 3], [5, 7, 9]], [[0, 2, 4], [6, 8, 10]])<br>\n",
    "Expected Output:<br>\n",
    "[[ 0 1 3 0 2 4]<br>\n",
    "[ 5 7 9 6 8 10]]"
   ]
  },
  {
   "cell_type": "code",
   "execution_count": 27,
   "metadata": {},
   "outputs": [
    {
     "name": "stdout",
     "output_type": "stream",
     "text": [
      "Concatenated array is : \n",
      "[[ 0  1  3  0  2  4]\n",
      " [ 5  7  9  6  8 10]]\n"
     ]
    }
   ],
   "source": [
    "def main():\n",
    "    \n",
    "    arr1 = np.array([[0, 1, 3], [5, 7, 9]])\n",
    "    arr2 = np.array([[0, 2, 4], [6, 8, 10]])\n",
    "\n",
    "    newarr= np.concatenate((arr1,arr2),axis=1)\n",
    "\n",
    "    print(f\"Concatenated array is : \\n{newarr}\")\n",
    "\n",
    "\n",
    "if __name__ == \"__main__\":\n",
    "    main()"
   ]
  },
  {
   "cell_type": "markdown",
   "metadata": {},
   "source": [
    "## 22.Write a Python program to make an array immutable (read-only).\n",
    "Expected Output:<br>\n",
    "Test the array is read-only or not:<br>\n",
    "Try to change the value of the first element:<br>\n",
    "Traceback (most recent call last):<br>\n",
    "File \"19236bd0-0bd9-11e7-a232-c706d0968eb6.py\", line 6, in<br>\n",
    "x[0] = 1<br>\n",
    "ValueError: assignment destination is read-only"
   ]
  },
  {
   "cell_type": "code",
   "execution_count": 28,
   "metadata": {},
   "outputs": [
    {
     "name": "stdout",
     "output_type": "stream",
     "text": [
      "[1 2 3 4 5]\n"
     ]
    },
    {
     "ename": "ValueError",
     "evalue": "assignment destination is read-only",
     "output_type": "error",
     "traceback": [
      "\u001b[1;31m---------------------------------------------------------------------------\u001b[0m",
      "\u001b[1;31mValueError\u001b[0m                                Traceback (most recent call last)",
      "Cell \u001b[1;32mIn[28], line 10\u001b[0m\n\u001b[0;32m      7\u001b[0m     arr[\u001b[38;5;241m0\u001b[39m]\u001b[38;5;241m=\u001b[39m\u001b[38;5;241m1\u001b[39m\n\u001b[0;32m      9\u001b[0m \u001b[38;5;28;01mif\u001b[39;00m \u001b[38;5;18m__name__\u001b[39m \u001b[38;5;241m==\u001b[39m \u001b[38;5;124m\"\u001b[39m\u001b[38;5;124m__main__\u001b[39m\u001b[38;5;124m\"\u001b[39m:\n\u001b[1;32m---> 10\u001b[0m     \u001b[43mmain\u001b[49m\u001b[43m(\u001b[49m\u001b[43m)\u001b[49m\n",
      "Cell \u001b[1;32mIn[28], line 7\u001b[0m, in \u001b[0;36mmain\u001b[1;34m()\u001b[0m\n\u001b[0;32m      4\u001b[0m \u001b[38;5;28mprint\u001b[39m(arr)\n\u001b[0;32m      6\u001b[0m arr\u001b[38;5;241m.\u001b[39mflags\u001b[38;5;241m.\u001b[39mwriteable\u001b[38;5;241m=\u001b[39m\u001b[38;5;28;01mFalse\u001b[39;00m\n\u001b[1;32m----> 7\u001b[0m \u001b[43marr\u001b[49m\u001b[43m[\u001b[49m\u001b[38;5;241;43m0\u001b[39;49m\u001b[43m]\u001b[49m\u001b[38;5;241m=\u001b[39m\u001b[38;5;241m1\u001b[39m\n",
      "\u001b[1;31mValueError\u001b[0m: assignment destination is read-only"
     ]
    }
   ],
   "source": [
    "def main():\n",
    "\n",
    "    arr =np.array([1,2,3,4,5])\n",
    "    print(arr)\n",
    "\n",
    "    arr.flags.writeable=False\n",
    "    arr[0]=1\n",
    "\n",
    "if __name__ == \"__main__\":\n",
    "    main()\n"
   ]
  },
  {
   "cell_type": "markdown",
   "metadata": {},
   "source": [
    "## 23.Write a Python program to create an array of (3, 4) shape, multiply every element value by 3 and display the new array.\n",
    "Expected Output:<br>\n",
    "Original array elements:<br>\n",
    "[[ 0 1 2 3]<br>\n",
    "[ 4 5 6 7]<br>\n",
    "[ 8 9 10 11]]<br>\n",
    "New array elements:<br>\n",
    "[[ 0 3 6 9]<br>\n",
    "[12 15 18 21]<br>\n",
    "[24 27 30 33]]"
   ]
  },
  {
   "cell_type": "code",
   "execution_count": 29,
   "metadata": {},
   "outputs": [
    {
     "name": "stdout",
     "output_type": "stream",
     "text": [
      "The Array is : \n",
      " [[ 0  1  2  3]\n",
      " [ 4  5  6  7]\n",
      " [ 8  9 10 11]]\n",
      "\n",
      "Array after multiplication : \n",
      " [[ 0  3  6  9]\n",
      " [12 15 18 21]\n",
      " [24 27 30 33]]\n"
     ]
    }
   ],
   "source": [
    "def main():\n",
    "    arr = np.arange(12).reshape(3,4)\n",
    "\n",
    "    print(f\"The Array is : \\n {arr}\")\n",
    "\n",
    "    newarr = arr * 3\n",
    "\n",
    "    print(f\"\\nArray after multiplication : \\n {newarr}\")\n",
    "\n",
    "\n",
    "if __name__ == \"__main__\":\n",
    "    main()"
   ]
  },
  {
   "cell_type": "markdown",
   "metadata": {},
   "source": [
    "## 24.Write a Python program to convert a NumPy array into Python list structure.\n",
    "Expected Output:<br>\n",
    "Original array elements:<br>\n",
    "[[0 1]<br>\n",
    "[2 3]<br>\n",
    "[4 5]]<br>\n",
    "Array to list:<br>\n",
    "[[0, 1], [2, 3], [4, 5]]"
   ]
  },
  {
   "cell_type": "code",
   "execution_count": 30,
   "metadata": {},
   "outputs": [
    {
     "name": "stdout",
     "output_type": "stream",
     "text": [
      "The Array is : \n",
      " [[0 1]\n",
      " [2 3]\n",
      " [4 5]]\n",
      "\n",
      "Array after converting to list : \n",
      " [[0, 1], [2, 3], [4, 5]]\n"
     ]
    }
   ],
   "source": [
    "def main():\n",
    "    arr = np.arange(6).reshape(3,2)\n",
    "\n",
    "    print(f\"The Array is : \\n {arr}\")\n",
    "\n",
    "    # arrlist = list(arr)\n",
    "\n",
    "    arrlist = arr.tolist()\n",
    "    \n",
    "\n",
    "    print(f\"\\nArray after converting to list : \\n {arrlist}\")\n",
    "\n",
    "\n",
    "if __name__ == \"__main__\":\n",
    "    main()"
   ]
  },
  {
   "cell_type": "markdown",
   "metadata": {},
   "source": [
    "## 25.Write a Python program to convert a NumPy array into Python list structure.\n",
    "Expected Output:<br>\n",
    "Original array elements:<br>\n",
    "[ 0.26153123 0.52760141 0.5718299 0.5927067 0.7831874 0.69746349<br>\n",
    "0.35399976 0.99469633 0.0694458 0.54711478]<br>\n",
    "Print array values with precision 3:<br>\n",
    "[ 0.262 0.528 0.572 0.593 0.783 0.697 0.354 0.995 0.069 0.547]"
   ]
  },
  {
   "cell_type": "code",
   "execution_count": 31,
   "metadata": {},
   "outputs": [
    {
     "name": "stdout",
     "output_type": "stream",
     "text": [
      "The Array is : \n",
      " [0.26153123 0.52760141 0.5718299  0.5927067  0.7831874  0.69746349\n",
      " 0.35399976 0.99469633 0.0694458  0.54711478]\n",
      "\n",
      "Array after setting precision : \n",
      " [0.262 0.528 0.572 0.593 0.783 0.697 0.354 0.995 0.069 0.547]\n"
     ]
    }
   ],
   "source": [
    "def main():\n",
    "    arr = np.array([ 0.26153123, 0.52760141, 0.5718299, 0.5927067, 0.7831874, 0.69746349,\n",
    "                    0.35399976,0.99469633,0.0694458,0.54711478])\n",
    "\n",
    "    print(f\"The Array is : \\n {arr}\")\n",
    " \n",
    "    np.set_printoptions(precision=3)\n",
    "\n",
    "    print(f\"\\nArray after setting precision : \\n {arr}\")\n",
    "\n",
    "\n",
    "if __name__ == \"__main__\":\n",
    "    main()"
   ]
  }
 ],
 "metadata": {
  "kernelspec": {
   "display_name": "Python 3",
   "language": "python",
   "name": "python3"
  },
  "language_info": {
   "codemirror_mode": {
    "name": "ipython",
    "version": 3
   },
   "file_extension": ".py",
   "mimetype": "text/x-python",
   "name": "python",
   "nbconvert_exporter": "python",
   "pygments_lexer": "ipython3",
   "version": "3.12.4"
  }
 },
 "nbformat": 4,
 "nbformat_minor": 2
}
